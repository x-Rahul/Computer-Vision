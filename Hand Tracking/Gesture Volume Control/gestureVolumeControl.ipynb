{
 "cells": [
  {
   "cell_type": "markdown",
   "id": "2640d330-3356-44c8-8da3-c7cab84c8917",
   "metadata": {},
   "source": [
    "# Project : Volume Gesture Control"
   ]
  },
  {
   "cell_type": "code",
   "execution_count": 1,
   "id": "f2546860-c8a9-416d-93f8-0cc10eaf76c2",
   "metadata": {},
   "outputs": [],
   "source": [
    "import cv2 as cv\n",
    "import mediapipe as mp\n",
    "import numpy as np\n",
    "import handTrackingModule as htm\n",
    "import time \n",
    "import math\n",
    "from ctypes import cast, POINTER\n",
    "from comtypes import CLSCTX_ALL\n",
    "from pycaw.pycaw import AudioUtilities, IAudioEndpointVolume"
   ]
  },
  {
   "cell_type": "markdown",
   "id": "afaa5cd4-a1b6-4199-8aec-25cae8c0e804",
   "metadata": {
    "tags": []
   },
   "source": [
    "### Volume Data"
   ]
  },
  {
   "cell_type": "code",
   "execution_count": 2,
   "id": "df9e5a60-3f09-49a9-acb1-5dc8691680f0",
   "metadata": {
    "tags": []
   },
   "outputs": [
    {
     "name": "stdout",
     "output_type": "stream",
     "text": [
      "(-65.25, 0.0, 0.03125)\n"
     ]
    }
   ],
   "source": [
    "devices = AudioUtilities.GetSpeakers()\n",
    "interface = devices.Activate(IAudioEndpointVolume._iid_, CLSCTX_ALL, None)\n",
    "volume = cast(interface, POINTER(IAudioEndpointVolume))\n",
    "# volume.GetMute()\n",
    "# volume.GetMasterVolumeLevel()\n",
    "volRange = volume.GetVolumeRange()\n",
    "print(volRange)\n",
    "minVol = volRange[0]\n",
    "maxVol = volRange[1]"
   ]
  },
  {
   "cell_type": "markdown",
   "id": "5b8bb154-ba8a-4f39-b886-ccf006082a66",
   "metadata": {},
   "source": [
    "### Input Data"
   ]
  },
  {
   "cell_type": "code",
   "execution_count": 3,
   "id": "86339753-7df6-466e-bd22-63ba4ae2a954",
   "metadata": {},
   "outputs": [],
   "source": [
    "green = (0, 255, 0)\n",
    "purple = (255, 0, 255)\n",
    "blue = (255, 0, 0)\n",
    "red =  (23, 23, 156)\n",
    "orange = (15, 97, 212)\n",
    "# path = 'D:\\Programming\\Python_Tutorials\\Resources\\Videos\\dance4.mp4'"
   ]
  },
  {
   "cell_type": "markdown",
   "id": "7ea30b51-ef19-4b03-a2d5-c5f568416eef",
   "metadata": {},
   "source": [
    "### Main"
   ]
  },
  {
   "cell_type": "code",
   "execution_count": 5,
   "id": "32b502d1-3fac-4738-b0c6-0f691995b442",
   "metadata": {},
   "outputs": [],
   "source": [
    "detector = htm.handDetector(detectionCon=0.5)\n",
    "cap = cv.VideoCapture(0)\n",
    "wCam, hCam = 640, 480\n",
    "cap.set(3, wCam)\n",
    "cap.set(4, hCam)\n",
    "pTime = 0\n",
    "\n",
    "while True:\n",
    "\n",
    "    isTrue, img = cap.read()\n",
    "    \n",
    "    #--\n",
    "    img = detector.findHands(img, draw = False)\n",
    "    lmList = detector.findPosition(img, draw = False)\n",
    "    if len(lmList) != 0:\n",
    "        # print(lmList[4], lmList[8])\n",
    "        x1, y1 = lmList[4][1], lmList[4][2]\n",
    "        x2, y2 = lmList[8][1], lmList[8][2]\n",
    "        cx, cy = (x1+x2)//2, (y1+y2)//2\n",
    "        \n",
    "        # Draw points\n",
    "        # cv.circle(img, (x1, y1), 10, orange, cv.FILLED)\n",
    "        # cv.circle(img, (x2, y2), 10, orange, cv.FILLED)\n",
    "        # cv.circle(img, (cx, cy), 10, purple, cv.FILLED)\n",
    "        # cv.line(img, (x1, y1), (x2, y2), purple, 2)\n",
    "        \n",
    "        length = math.hypot(x2-x1, y2-y1)\n",
    "        # if length < 50:\n",
    "        #     cv.circle(img, (cx, cy), 10, red, cv.FILLED)\n",
    "        \n",
    "        # Hand Range = 20 - 200\n",
    "        # Volume Range = -65 - 0\n",
    "        vol = np.interp(length, (20, 200), (minVol, maxVol)) \n",
    "        # print(int(length), vol)\n",
    "        volume.SetMasterVolumeLevel(vol, None)\n",
    "        \n",
    "        # Draw Volume Meter\n",
    "        volBar = np.interp(length, (20, 200), (400, 150))\n",
    "        volPer = np.interp(length, (20, 200), (0, 100))\n",
    "        cv.rectangle(img, (50, int(volBar)), (75, 400), green, cv.FILLED)\n",
    "        cv.rectangle(img, (50, 150), (75, 400), green, 2)\n",
    "        cv.putText(img, f'{int(volPer)}%', (40, 430), cv.FONT_HERSHEY_PLAIN, 2, blue, 2 )\n",
    "          \n",
    "    #FPS\n",
    "    cTime = time.time()\n",
    "    fps = 1/(cTime - pTime)\n",
    "    pTime = cTime\n",
    "    cv.putText(img, f'FPS : {int(fps)}', (30, 40), cv.FONT_HERSHEY_PLAIN, 2, green, 2 )\n",
    "    #--\n",
    "    \n",
    "    cv.imshow(\"Output\", img)\n",
    "    if cv.waitKey(1) & 0xFF == ord('x'):\n",
    "        break\n",
    "        \n",
    "cap.release()\n",
    "cv.destroyAllWindows()"
   ]
  }
 ],
 "metadata": {
  "kernelspec": {
   "display_name": "Python 3 (ipykernel)",
   "language": "python",
   "name": "python3"
  },
  "language_info": {
   "codemirror_mode": {
    "name": "ipython",
    "version": 3
   },
   "file_extension": ".py",
   "mimetype": "text/x-python",
   "name": "python",
   "nbconvert_exporter": "python",
   "pygments_lexer": "ipython3",
   "version": "3.10.5"
  }
 },
 "nbformat": 4,
 "nbformat_minor": 5
}
