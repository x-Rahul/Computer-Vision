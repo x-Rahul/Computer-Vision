{
 "cells": [
  {
   "cell_type": "code",
   "execution_count": 2,
   "id": "b5edaa1a",
   "metadata": {},
   "outputs": [],
   "source": [
    "import cv2 as cv\n",
    "import numpy as np"
   ]
  },
  {
   "cell_type": "code",
   "execution_count": 3,
   "id": "650ab3e2",
   "metadata": {},
   "outputs": [],
   "source": [
    "img1 = cv.imread('ImagesQuery/detroit.jpg', 0)\n",
    "img2 = cv.imread('ImagesTrain/detroit1.jpg', 0)\n",
    "# img3 = cv.imread('ImagesQuery/witcher.jpg')\n",
    "\n",
    "orb = cv.ORB_create(nfeatures=1000)\n",
    "kp1, des1 = orb.detectAndCompute(img1, None)\n",
    "kp2, des2 = orb.detectAndCompute(img2, None)\n",
    "# imgkp1 = cv.drawKeypoints(img1, kp1, None)\n",
    "# imgkp2 = cv.drawKeypoints(img2, kp2, None)\n",
    "\n",
    "bf = cv.BFMatcher()\n",
    "matches = bf.knnMatch(des1, des2, k = 2)\n",
    "\n",
    "good = []\n",
    "for m,n in matches:\n",
    "    if m.distance < 0.75*n.distance:\n",
    "        good.append([m])\n",
    "\n",
    "img3 = cv.drawMatchesKnn(img1, kp1, img2, kp2, good, None, flags=2)\n",
    "\n",
    "\n",
    "# cv.imshow(\"kp1\", imgkp1)\n",
    "# cv.imshow(\"kp2\", imgkp2)\n",
    "cv.imshow(\"image1\", img1)\n",
    "cv.imshow(\"image2\", img2)\n",
    "cv.imshow(\"Output Matcher\",img3)\n",
    "cv.waitKey(0)\n",
    "\n",
    "cv.destroyAllWindows()"
   ]
  },
  {
   "cell_type": "code",
   "execution_count": null,
   "id": "8c041693",
   "metadata": {},
   "outputs": [],
   "source": []
  }
 ],
 "metadata": {
  "kernelspec": {
   "display_name": "Python 3.9.7 64-bit",
   "language": "python",
   "name": "python3"
  },
  "language_info": {
   "codemirror_mode": {
    "name": "ipython",
    "version": 3
   },
   "file_extension": ".py",
   "mimetype": "text/x-python",
   "name": "python",
   "nbconvert_exporter": "python",
   "pygments_lexer": "ipython3",
   "version": "3.9.7"
  },
  "vscode": {
   "interpreter": {
    "hash": "bdb8a86c0010a9b8e2e1b44a2fd24aa4ec7c491c7e7da340da342447ce354078"
   }
  }
 },
 "nbformat": 4,
 "nbformat_minor": 5
}
