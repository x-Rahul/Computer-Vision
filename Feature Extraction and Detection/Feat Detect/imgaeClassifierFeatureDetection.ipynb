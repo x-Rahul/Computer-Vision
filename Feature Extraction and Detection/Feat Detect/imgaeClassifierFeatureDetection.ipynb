{
 "cells": [
  {
   "cell_type": "code",
   "execution_count": 1,
   "metadata": {},
   "outputs": [],
   "source": [
    "import cv2 as cv\n",
    "import numpy as np\n",
    "import os"
   ]
  },
  {
   "cell_type": "markdown",
   "metadata": {},
   "source": [
    "## Import Images"
   ]
  },
  {
   "cell_type": "code",
   "execution_count": 6,
   "metadata": {},
   "outputs": [
    {
     "name": "stdout",
     "output_type": "stream",
     "text": [
      "Images:  6\n",
      "Image Names :  ['DSA', 'Data Structure book', 'Image Processing book', 'vision_book', 'vision_book_original', 'vision book']\n"
     ]
    }
   ],
   "source": [
    "path = '../../Resources/Images/FeatureExtraction/Images/'\n",
    "images = []\n",
    "itemNames = []\n",
    "\n",
    "myList = os.listdir(path)\n",
    "for item in myList:\n",
    "    imgCur = cv.imread(f'{path}{item}', 0)\n",
    "    images.append(imgCur)\n",
    "    itemNames.append(os.path.splitext(item)[0])\n",
    "\n",
    "print(\"Images: \", len(images))\n",
    "print(\"Image Names : \", itemNames)"
   ]
  },
  {
   "cell_type": "markdown",
   "metadata": {},
   "source": [
    "## Create Descriptors for the Imported Images"
   ]
  },
  {
   "cell_type": "code",
   "execution_count": 3,
   "metadata": {},
   "outputs": [
    {
     "name": "stdout",
     "output_type": "stream",
     "text": [
      "Descriptors :  6\n"
     ]
    }
   ],
   "source": [
    "orb = cv.ORB_create(nfeatures=1000)\n",
    "\n",
    "def findDes(images):\n",
    "    desList = []\n",
    "    for img in images:\n",
    "        kp1, des1 = orb.detectAndCompute(img, None)\n",
    "        desList.append(des1)\n",
    "    return desList\n",
    "\n",
    "desList = findDes(images)\n",
    "print(\"Descriptors : \", len(desList))"
   ]
  },
  {
   "cell_type": "markdown",
   "metadata": {},
   "source": [
    "## Descriptor Match\n",
    "#### Create descriptor for the search image and match with the descriptor of imported images"
   ]
  },
  {
   "cell_type": "code",
   "execution_count": 4,
   "metadata": {},
   "outputs": [],
   "source": [
    "def findID(img, desList, thresh = 15):\n",
    "    kp2, des2 = orb.detectAndCompute(img, None)\n",
    "\n",
    "    # Matching\n",
    "    bf = cv.BFMatcher()\n",
    "    matchList = []\n",
    "    ID = -1\n",
    "    try:\n",
    "        for des in desList:\n",
    "            matches = bf.knnMatch(des, des2, k = 2)\n",
    "            # Check Good Match\n",
    "            good =[]\n",
    "            for m, n in matches:\n",
    "                if m.distance < 0.75 * n.distance:\n",
    "                    good.append([m])\n",
    "            matchList.append(len(good))\n",
    "    except:\n",
    "        pass\n",
    "    # print(matchList)\n",
    "    if len(matchList) != 0:\n",
    "        if max(matchList) > thresh:\n",
    "            ID = matchList.index(max(matchList))\n",
    "    return ID"
   ]
  },
  {
   "cell_type": "markdown",
   "metadata": {},
   "source": [
    "## Search from secondary camera"
   ]
  },
  {
   "cell_type": "code",
   "execution_count": 5,
   "metadata": {},
   "outputs": [],
   "source": [
    "cap = cv.VideoCapture(0)\n",
    "while True:\n",
    "    isTrue, frame = cap.read()\n",
    "    imgOG = frame.copy()\n",
    "    imgGray = cv.cvtColor(imgOG, cv.COLOR_BGR2GRAY)\n",
    "    \n",
    "\n",
    "    ID = findID(imgGray, desList)\n",
    "    if ID != -1:\n",
    "        cv.putText(imgOG, itemNames[ID], (50,50), cv.FONT_HERSHEY_COMPLEX, 1, (0,255,0), 2)\n",
    "    cv.imshow(\" Image 2 \", imgOG)\n",
    "    if cv.waitKey(1) & 0xFF == ord('x'):\n",
    "        break\n",
    "\n",
    "cap.release()\n",
    "cv.destroyAllWindows()"
   ]
  },
  {
   "cell_type": "code",
   "execution_count": null,
   "metadata": {},
   "outputs": [],
   "source": []
  }
 ],
 "metadata": {
  "kernelspec": {
   "display_name": "Python 3.10.6 64-bit",
   "language": "python",
   "name": "python3"
  },
  "language_info": {
   "codemirror_mode": {
    "name": "ipython",
    "version": 3
   },
   "file_extension": ".py",
   "mimetype": "text/x-python",
   "name": "python",
   "nbconvert_exporter": "python",
   "pygments_lexer": "ipython3",
   "version": "3.10.6"
  },
  "orig_nbformat": 4,
  "vscode": {
   "interpreter": {
    "hash": "e7370f93d1d0cde622a1f8e1c04877d8463912d04d973331ad4851f04de6915a"
   }
  }
 },
 "nbformat": 4,
 "nbformat_minor": 2
}
