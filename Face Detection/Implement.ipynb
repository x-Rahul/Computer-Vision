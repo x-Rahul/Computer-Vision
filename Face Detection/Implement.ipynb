{
 "cells": [
  {
   "cell_type": "code",
   "execution_count": 1,
   "id": "4f69aa38-b4cb-48f3-9a47-b642aec5833b",
   "metadata": {},
   "outputs": [],
   "source": [
    "import cv2 as cv\n",
    "import time\n",
    "import faceDetectModule as fd\n",
    "\n",
    "detector = fd.faceDetector()\n",
    "\n",
    " \n",
    "path = 'D:\\Programming\\Python\\Resources\\Videos\\group.mp4'\n",
    "cap = cv.VideoCapture(path)\n",
    "\n",
    "pTime = 0\n",
    "while True:\n",
    "    isTrue, frame = cap.read()\n",
    "    img = cv.resize(frame, (1280,720))\n",
    "\n",
    "    #--\n",
    "    img, bBoxes = detector.findFaces(img)\n",
    "    #--\n",
    "\n",
    "    cv.imshow(\"Output\", img)\n",
    "    if cv.waitKey(1) & 0xFF == ord('x'):\n",
    "        break\n",
    "\n",
    "cap.release()\n",
    "cv.destroyAllWindows()"
   ]
  },
  {
   "cell_type": "code",
   "execution_count": null,
   "id": "31692ab0-70a4-4b2f-a869-85616ec5164a",
   "metadata": {},
   "outputs": [],
   "source": []
  }
 ],
 "metadata": {
  "kernelspec": {
   "display_name": "Python 3.10.5 64-bit",
   "language": "python",
   "name": "python3"
  },
  "language_info": {
   "codemirror_mode": {
    "name": "ipython",
    "version": 3
   },
   "file_extension": ".py",
   "mimetype": "text/x-python",
   "name": "python",
   "nbconvert_exporter": "python",
   "pygments_lexer": "ipython3",
   "version": "3.10.5"
  },
  "vscode": {
   "interpreter": {
    "hash": "dddb37134de21aeada863074afee40905ebdd1b7d7e4d86c73135e083da240d5"
   }
  }
 },
 "nbformat": 4,
 "nbformat_minor": 5
}
