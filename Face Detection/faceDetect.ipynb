{
 "cells": [
  {
   "cell_type": "code",
   "execution_count": 3,
   "id": "c0a12f82-e083-4245-96d1-0f20bfcc81c6",
   "metadata": {},
   "outputs": [],
   "source": [
    "import cv2 as cv\n",
    "import mediapipe as mp\n",
    "import time\n",
    "\n",
    "mpFaceDetection = mp.solutions.face_detection\n",
    "\n",
    "# min_detection_confidence :--> Minimum confidence value ([0.0, 1.0]) for face detection to be considered successful.\n",
    "# model_selection :--> 0 or 1. 0 to select a short-range model that worksbest for faces within 2 meters from the camera,\n",
    "#                      and 1 for a full-range model best for faces within 5 meters.\n",
    "\n",
    "faceDetection = mpFaceDetection.FaceDetection(min_detection_confidence=0.5, model_selection=1)\n",
    "\n",
    "mpDraw = mp.solutions.drawing_utils\n",
    "pTime = 0\n",
    "path2 = 'https://172.16.137.2:8080/video'\n",
    "path = 'D:\\Programming\\Python\\Resources\\Videos\\group.mp4'\n",
    "cap = cv.VideoCapture(path2)\n",
    "while True:\n",
    "    isTrue, frame = cap.read()\n",
    "    img = cv.resize(frame, (1280 ,720))\n",
    "    imgRGB = cv.cvtColor(img, cv.COLOR_BGR2RGB)\n",
    "    results = faceDetection.process(imgRGB)\n",
    "    \n",
    "    if results.detections:\n",
    "        for id,detection in enumerate(results.detections):\n",
    "            #-----------------------------------------------------\n",
    "            # mpDraw.draw_detection(img, detection)\n",
    "            # print(id, detection)\n",
    "            # print(detection.score)\n",
    "            # print(detection.location_data.relative_bounding_box)\n",
    "            #------------------------------------------------------\n",
    "            bBoxC = detection.location_data.relative_bounding_box\n",
    "            ih,iw,ic = img.shape\n",
    "            bBox = int(bBoxC.xmin * iw), int(bBoxC.ymin * ih), \\\n",
    "                   int(bBoxC.width * iw), int(bBoxC.height * ih)\n",
    "            cv.rectangle(img, bBox, (255, 0, 255), 2)\n",
    "            cv.putText(img, f' {int(detection.score[0]*100)} % ',\n",
    "                       (bBox[0],bBox[1] - 20), cv.FONT_HERSHEY_PLAIN, 2, (255, 0, 255), 2 )\n",
    "\n",
    "    # FPS\n",
    "    cTime = time.time()\n",
    "    fps = 1/(cTime - pTime)\n",
    "    pTime = cTime\n",
    "    cv.putText(img, f'FPS : {int(fps)}', (30,50), cv.FONT_HERSHEY_PLAIN, 2, (0, 255, 0), 2 )\n",
    "    \n",
    "    cv.imshow(\"OutPut\", img)\n",
    "    if cv.waitKey(1) & 0xFF == ord('x'):\n",
    "        break\n",
    "        \n",
    "cap.release()\n",
    "cv.destroyAllWindows()"
   ]
  },
  {
   "cell_type": "code",
   "execution_count": null,
   "id": "79140ca3-e522-4519-b575-d0c8b687acaa",
   "metadata": {},
   "outputs": [],
   "source": []
  }
 ],
 "metadata": {
  "kernelspec": {
   "display_name": "Python 3.10.5 64-bit",
   "language": "python",
   "name": "python3"
  },
  "language_info": {
   "codemirror_mode": {
    "name": "ipython",
    "version": 3
   },
   "file_extension": ".py",
   "mimetype": "text/x-python",
   "name": "python",
   "nbconvert_exporter": "python",
   "pygments_lexer": "ipython3",
   "version": "3.10.5"
  },
  "vscode": {
   "interpreter": {
    "hash": "dddb37134de21aeada863074afee40905ebdd1b7d7e4d86c73135e083da240d5"
   }
  }
 },
 "nbformat": 4,
 "nbformat_minor": 5
}
