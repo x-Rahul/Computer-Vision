{
 "cells": [
  {
   "cell_type": "markdown",
   "id": "e62cec88-96c4-480f-961b-d475cd2cfbb5",
   "metadata": {},
   "source": [
    "## Implementation"
   ]
  },
  {
   "cell_type": "code",
   "execution_count": 1,
   "id": "253dc5e0-c481-4872-a9c1-077060538679",
   "metadata": {},
   "outputs": [],
   "source": [
    "import cv2 as cv\n",
    "import time\n",
    "import poseModule as pm"
   ]
  },
  {
   "cell_type": "code",
   "execution_count": 2,
   "id": "0a7977a1-a55a-435c-975f-6b88bdb3f846",
   "metadata": {},
   "outputs": [],
   "source": [
    "detector = pm.poseDetector()\n",
    "path = 'D:\\Programming\\Python_Tutorials\\Resources\\Videos\\dance3.mp4'"
   ]
  },
  {
   "cell_type": "code",
   "execution_count": 3,
   "id": "73708f54-c706-4227-910c-e1f457819094",
   "metadata": {},
   "outputs": [],
   "source": [
    "cap = cv.VideoCapture(path)\n",
    "pTime = 0\n",
    "while True:\n",
    "    isTrue, frame = cap.read()\n",
    "    img = cv.resize(frame, (1280,720))\n",
    "\n",
    "    img = detector.findPose(img, draw = False)\n",
    "    lmList = detector.findPosition(img, draw = True)\n",
    "\n",
    "    # lmList[P] = [P x y], Access particular Point\n",
    "    # where P is Pose landmark point and x,y are coordinates of the point of that particular image or frame\n",
    "    # if len(lmList) != 0:\n",
    "    #     cv.circle(img,(lmList[0][1],lmList[0][2]), 10 , (180,120,150), cv.FILLED) \n",
    "\n",
    "    # FPS\n",
    "    cTime = time.time()\n",
    "    fps = 1/(cTime-pTime)\n",
    "    pTime = cTime\n",
    "    cv.putText(img, str(int(fps)), (5, 20), cv.FONT_HERSHEY_COMPLEX, 0.5, (255,255,255), 1)\n",
    "\n",
    "    cv.imshow(\"webCam\", img)\n",
    "    if cv.waitKey(1) & 0xFF == ord('x'):\n",
    "        break\n",
    "\n",
    "cap.release()\n",
    "cv.destroyAllWindows()"
   ]
  },
  {
   "cell_type": "code",
   "execution_count": null,
   "id": "6aaa5678-7d69-4bdd-9782-1fcbcb3cf40d",
   "metadata": {},
   "outputs": [],
   "source": []
  }
 ],
 "metadata": {
  "kernelspec": {
   "display_name": "Python 3 (ipykernel)",
   "language": "python",
   "name": "python3"
  },
  "language_info": {
   "codemirror_mode": {
    "name": "ipython",
    "version": 3
   },
   "file_extension": ".py",
   "mimetype": "text/x-python",
   "name": "python",
   "nbconvert_exporter": "python",
   "pygments_lexer": "ipython3",
   "version": "3.10.5"
  }
 },
 "nbformat": 4,
 "nbformat_minor": 5
}
