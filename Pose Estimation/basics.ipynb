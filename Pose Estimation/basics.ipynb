{
 "cells": [
  {
   "cell_type": "code",
   "execution_count": 12,
   "id": "dc09be81-1b38-4d3d-b197-c92ffe7aeec9",
   "metadata": {},
   "outputs": [],
   "source": [
    "import cv2 as cv\n",
    "import mediapipe as mp\n",
    "import time"
   ]
  },
  {
   "cell_type": "code",
   "execution_count": 17,
   "id": "c00a98b2-a69c-4fa7-8afa-c13e9bcc829c",
   "metadata": {},
   "outputs": [],
   "source": [
    "mpDraw = mp.solutions.drawing_utils\n",
    "mpPose = mp.solutions.pose\n",
    "pose = mpPose.Pose()\n",
    "\n",
    "path = 'D:\\Programming\\Python_Tutorials\\Resources\\Videos\\dance3.mp4'\n",
    "cap = cv.VideoCapture(path)"
   ]
  },
  {
   "cell_type": "code",
   "execution_count": 18,
   "id": "8f86ceac-bd95-4c64-8d7d-db75b9d14df2",
   "metadata": {},
   "outputs": [],
   "source": [
    "pTime = 0\n",
    "while True:\n",
    "    success, img = cap.read()\n",
    "    img = cv.resize(img, (640, 480))\n",
    "    imgRGB = cv.cvtColor(img, cv.COLOR_BGR2RGB)\n",
    "    \n",
    "    \n",
    "    results = pose.process(imgRGB)\n",
    "    # print(results.pose_landmarks)\n",
    "    if results.pose_landmarks:\n",
    "        mpDraw.draw_landmarks(img, results.pose_landmarks, mpPose.POSE_CONNECTIONS)\n",
    "        for id, lm in enumerate(results.pose_landmarks.landmark):\n",
    "            h, w, c = img.shape\n",
    "            # print(id, lm)\n",
    "            cx, cy = int(lm.x * w), int(lm.y * h)\n",
    "            cv.circle(img, (cx, cy), 5, (255, 0, 0), cv.FILLED)\n",
    "            \n",
    "            \n",
    "    cTime = time.time()\n",
    "    fps = 1 / (cTime - pTime)\n",
    "    pTime = cTime\n",
    "    cv.putText(img, str(int(fps)), (70, 50), cv.FONT_HERSHEY_PLAIN, 3,\n",
    "                (255, 0, 0), 3)\n",
    "    \n",
    "    \n",
    "    cv.imshow(\"Image\", img)\n",
    "    if cv.waitKey(1) & 0xFF == ord('x'):\n",
    "        break\n",
    "        \n",
    "cap.release()\n",
    "cv.destroyAllWindows()"
   ]
  },
  {
   "cell_type": "code",
   "execution_count": null,
   "id": "43a5d906-b5c2-49de-8a8a-d71c8a31ae2c",
   "metadata": {},
   "outputs": [],
   "source": []
  }
 ],
 "metadata": {
  "kernelspec": {
   "display_name": "Python 3.10.5 64-bit",
   "language": "python",
   "name": "python3"
  },
  "language_info": {
   "codemirror_mode": {
    "name": "ipython",
    "version": 3
   },
   "file_extension": ".py",
   "mimetype": "text/x-python",
   "name": "python",
   "nbconvert_exporter": "python",
   "pygments_lexer": "ipython3",
   "version": "3.10.5"
  },
  "vscode": {
   "interpreter": {
    "hash": "dddb37134de21aeada863074afee40905ebdd1b7d7e4d86c73135e083da240d5"
   }
  }
 },
 "nbformat": 4,
 "nbformat_minor": 5
}
